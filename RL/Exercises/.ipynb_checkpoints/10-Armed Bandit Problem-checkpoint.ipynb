{
 "cells": [
  {
   "cell_type": "markdown",
   "metadata": {},
   "source": [
    "# Multi - Armed Bandit Problem"
   ]
  },
  {
   "cell_type": "code",
   "execution_count": 1,
   "metadata": {},
   "outputs": [],
   "source": [
    "import numpy as np\n",
    "import matplotlib.pyplot as plt\n"
   ]
  },
  {
   "cell_type": "code",
   "execution_count": 59,
   "metadata": {},
   "outputs": [],
   "source": [
    "epsilon = 0.1\n",
    "T = 10000\n",
    "N = 10\n",
    "inc_sd = 0.01\n",
    "do_increment = 1\n",
    "alpha = 0.1\n",
    "methods = {\"SampleAvg\": {\"name\":\"SampleAvg\", \"count\": None}, \"ConstantAlpha\": {\"name\":\"ConstantAlpha\", \"alpha\":alpha}}"
   ]
  },
  {
   "cell_type": "markdown",
   "metadata": {},
   "source": [
    "## Helper Functions"
   ]
  },
  {
   "cell_type": "code",
   "execution_count": 68,
   "metadata": {},
   "outputs": [],
   "source": [
    "def initialise(arms):\n",
    "    return np.random.normal(0, 1, N)\n",
    "def increment(arms):\n",
    "    return np.random.normal(0, inc_sd, N)\n",
    "def event(epsilon):\n",
    "    if (np.random.random() > epsilon):\n",
    "        return 0\n",
    "    return 1\n",
    "# 0 for exploiting\n",
    "# 1 for exploring\n",
    "def bandit(q, index):\n",
    "    return np.random.normal(q[index], 1, 1)\n",
    "def action(value, true_values, index, method):\n",
    "    reward = bandit(true_values, index)\n",
    "    if method[\"name\"] == \"SampleAvg\":\n",
    "        step_size = 1/(method[\"count\"][index] + 1)\n",
    "        method[\"count\"][index] += 1\n",
    "    elif method[\"name\"] == \"ConstantAlpha\":\n",
    "        step_size = method[\"alpha\"]\n",
    "    value[index] = value[index] + step_size*(reward - value[index])\n",
    "    return value, method"
   ]
  },
  {
   "cell_type": "markdown",
   "metadata": {},
   "source": [
    "## Sample Average Method"
   ]
  },
  {
   "cell_type": "code",
   "execution_count": 72,
   "metadata": {},
   "outputs": [],
   "source": [
    "def Bandit(time_steps, arms, epsilon, do_increment, method):\n",
    "    avg_reward = np.zeros(time_steps)\n",
    "    means = np.zeros(time_steps)\n",
    "    value = np.zeros(arms)\n",
    "    if method[\"name\"] == \"SampleAvg\":\n",
    "        method[\"count\"] = np.zeros(arms)\n",
    "    true_values = initialise(arms)\n",
    "    print(np.mean(true_values))\n",
    "    step_size = None\n",
    "    for i in range(time_steps):\n",
    "        if (event(epsilon)):\n",
    "            # Exploring\n",
    "            random_choice = int(arms*np.random.random())\n",
    "            value, method = action(value, true_values, random_choice, method)\n",
    "        else:\n",
    "            # Exploiting\n",
    "            id_max = np.argmax(value)\n",
    "            value, method = action(value, true_values, id_max, method)\n",
    "        avg_reward[i] = (np.mean(value))\n",
    "        means[i] = np.mean(true_values)\n",
    "        if do_increment:\n",
    "            true_values += increment(arms)\n",
    "    return avg_reward, means"
   ]
  },
  {
   "cell_type": "markdown",
   "metadata": {},
   "source": [
    "## The Idea\n",
    "- Not incrementing (stationary environment) and using SampleAvg gives good result\n",
    "- Incrementing (changing environment) and using a constant value for step size allows it to adapt"
   ]
  },
  {
   "cell_type": "code",
   "execution_count": 81,
   "metadata": {},
   "outputs": [
    {
     "name": "stdout",
     "output_type": "stream",
     "text": [
      "0.16876705505893877\n"
     ]
    },
    {
     "data": {
      "image/png": "[encoded data removed]",
      "text/plain": [
       "<Figure size 432x288 with 1 Axes>"
      ]
     },
     "metadata": {
      "needs_background": "light"
     },
     "output_type": "display_data"
    }
   ],
   "source": [
    "avg_reward, means = Bandit(T, N, epsilon, 0, methods[\"SampleAvg\"])\n",
    "plt.plot(avg_reward, \"r\", means, \"b\")\n",
    "plt.show()"
   ]
  },
  {
   "cell_type": "code",
   "execution_count": null,
   "metadata": {},
   "outputs": [],
   "source": []
  }
 ],
 "metadata": {
  "kernelspec": {
   "display_name": "Python 3",
   "language": "python",
   "name": "python3"
  },
  "language_info": {
   "codemirror_mode": {
    "name": "ipython",
    "version": 3
   },
   "file_extension": ".py",
   "mimetype": "text/x-python",
   "name": "python",
   "nbconvert_exporter": "python",
   "pygments_lexer": "ipython3",
   "version": "3.7.6"
  }
 },
 "nbformat": 4,
 "nbformat_minor": 2
}
