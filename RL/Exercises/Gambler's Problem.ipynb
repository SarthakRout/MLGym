{
 "cells": [
  {
   "cell_type": "markdown",
   "metadata": {},
   "source": [
    "# Gambler's Problem"
   ]
  },
  {
   "cell_type": "markdown",
   "metadata": {},
   "source": [
    "# Dynamic Programming: Value Iteration\n",
    "- Space of States: \\[0..100\\]\n",
    "- Space of Actions: \\[0..100\\] \n",
    "- Space of valid actions for a state `s` :\\[ 0.. min(s, 100 - s)\\] "
   ]
  },
  {
   "cell_type": "markdown",
   "metadata": {},
   "source": [
    "# Importing Packages"
   ]
  },
  {
   "cell_type": "code",
   "execution_count": 6,
   "metadata": {},
   "outputs": [],
   "source": [
    "import numpy as np\n",
    "import math\n",
    "import matplotlib.pyplot as plt\n",
    "import time\n",
    "%matplotlib inline"
   ]
  },
  {
   "cell_type": "markdown",
   "metadata": {},
   "source": [
    "# Parameters"
   ]
  },
  {
   "cell_type": "code",
   "execution_count": 60,
   "metadata": {},
   "outputs": [],
   "source": [
    "params = {\n",
    "    \"goal\": 100,\n",
    "    \"theta\": 0.01,\n",
    "    \"gamma\": 1,\n",
    "    \"prob_win\": 0.5,\n",
    "    \"num_iters\": 1000,\n",
    "    \"policy_iter\": 10\n",
    "}"
   ]
  },
  {
   "cell_type": "code",
   "execution_count": 51,
   "metadata": {},
   "outputs": [],
   "source": [
    "def Initialise(params):\n",
    "    \"\"\"Intialises value function\n",
    "    \n",
    "    Args:\n",
    "        params (dict): Dictionary of parameters\n",
    "\n",
    "    Returns:\n",
    "        value (ndarray): Value initialised to zero with shape (size of goal + 1,)\n",
    "    \"\"\"\n",
    "    value = np.zeros(params[\"goal\"]+1)\n",
    "    return value\n",
    "def PolicyEvalImprove(old_value, params):\n",
    "    \"\"\"One iteration of Value Iteration by updating the value with maximum expected reward\n",
    "    \n",
    "    Args:\n",
    "        old_value (ndarray): Old value function\n",
    "        params (dict): Dictionary of parameters\n",
    "\n",
    "    Returns:\n",
    "        value (ndarray): Returns the updated value function\n",
    "    \"\"\"\n",
    "    value = np.copy(old_value)\n",
    "    delta = 0\n",
    "    for itr in range(params[\"policy_iter\"]):\n",
    "        delta = 0\n",
    "        for s in range(1, params[\"goal\"]):\n",
    "            maxm = 0\n",
    "            for a in range(1, min(s, params[\"goal\"]-s)+1):\n",
    "                exp_reward = params[\"prob_win\"] * ( ((s+a) == params[\"goal\"]) + params[\"gamma\"] * value[s+a] )\n",
    "                exp_reward += (1 - params[\"prob_win\"]) * ( ((s-a) == params[\"goal\"]) + params[\"gamma\"] * value[s-a])\n",
    "                maxm = max(maxm, exp_reward)\n",
    "            delta = max(delta, abs(maxm - value[s]))\n",
    "            value[s] = maxm\n",
    "        if(delta < params[\"theta\"]):\n",
    "            break\n",
    "    return value\n",
    "def GetPolicy(value, params):\n",
    "    \"\"\"Retrieves the optimal policy from optimal value function greedily\n",
    "    \n",
    "    Args:\n",
    "        value (ndarray): The optimal value function\n",
    "        params (dict): Dictionary of parameters\n",
    "\n",
    "    Returns:\n",
    "        policy (ndarray): Policy function with shape (size of goals + 1,)\n",
    "    \"\"\"\n",
    "    policy = np.zeros(params[\"goal\"]+1)\n",
    "    for s in range(1,params[\"goal\"]):\n",
    "        maxm = 0\n",
    "        argmaxa = 1\n",
    "        for a in range(1, min(s, params[\"goal\"]-s)+1):\n",
    "            exp_reward = params[\"prob_win\"] * ( ((s+a) == params[\"goal\"]) + params[\"gamma\"] * value[s+a] )\n",
    "            exp_reward += (1 - params[\"prob_win\"]) * ( ((s-a) == params[\"goal\"]) + params[\"gamma\"] * value[s-a])\n",
    "            if(exp_reward > maxm):\n",
    "                maxm = exp_reward\n",
    "                argmaxa = a\n",
    "        policy[s] = argmaxa\n",
    "    return policy"
   ]
  },
  {
   "cell_type": "code",
   "execution_count": 52,
   "metadata": {},
   "outputs": [],
   "source": [
    "def ValueIteration(params):\n",
    "    \"\"\"Implements Value Iteration\n",
    "    \n",
    "    Args:\n",
    "        params (dict): Dictionary of parameters\n",
    "\n",
    "    Returns:\n",
    "        None\n",
    "    \"\"\"\n",
    "    value = Initialise(params)\n",
    "    for i in range(params[\"num_iters\"]):\n",
    "        updated_value = PolicyEvalImprove(value, params)\n",
    "        print(\"Iteration: \", i+1, \"Delta norm: \", np.linalg.norm(updated_value-value))\n",
    "        if (updated_value == value).all():\n",
    "            break\n",
    "        else:\n",
    "            value = updated_value\n",
    "    \n",
    "    policy = GetPolicy(value, params)\n",
    "    plt.plot(policy[1:params[\"goal\"]])"
   ]
  },
  {
   "cell_type": "code",
   "execution_count": 61,
   "metadata": {},
   "outputs": [
    {
     "name": "stdout",
     "output_type": "stream",
     "text": [
      "Iteration:  1 Delta norm:  5.730178033130409\n",
      "Iteration:  2 Delta norm:  0.002006172424111602\n",
      "Iteration:  3 Delta norm:  0.0002291445985522769\n",
      "Iteration:  4 Delta norm:  5.483657756889942e-06\n",
      "Iteration:  5 Delta norm:  8.49705823118669e-09\n",
      "Iteration:  6 Delta norm:  2.0394946030293262e-09\n",
      "Iteration:  7 Delta norm:  4.739574995165997e-11\n",
      "Iteration:  8 Delta norm:  1.540101446428445e-12\n",
      "Iteration:  9 Delta norm:  6.330931351443327e-14\n",
      "Iteration:  10 Delta norm:  2.8334062230696084e-15\n",
      "Iteration:  11 Delta norm:  6.415944603006379e-16\n",
      "Iteration:  12 Delta norm:  5.020548682536777e-16\n",
      "Iteration:  13 Delta norm:  4.637295813494384e-16\n",
      "Iteration:  14 Delta norm:  4.1340320322907796e-16\n",
      "Iteration:  15 Delta norm:  3.61975732328332e-16\n",
      "Iteration:  16 Delta norm:  2.6999899566590055e-16\n",
      "Iteration:  17 Delta norm:  2.0029859748389804e-16\n",
      "Iteration:  18 Delta norm:  1.241873016165035e-16\n",
      "Iteration:  19 Delta norm:  5.551115123125783e-17\n",
      "Iteration:  20 Delta norm:  0.0\n"
     ]
    },
    {
     "data": {
      "image/png": "[encoded data removed]",
      "text/plain": [
       "<Figure size 432x288 with 1 Axes>"
      ]
     },
     "metadata": {
      "needs_background": "light"
     },
     "output_type": "display_data"
    }
   ],
   "source": [
    "ValueIteration(params)"
   ]
  }
 ],
 "metadata": {
  "kernelspec": {
   "display_name": "Python 3",
   "language": "python",
   "name": "python3"
  },
  "language_info": {
   "codemirror_mode": {
    "name": "ipython",
    "version": 3
   },
   "file_extension": ".py",
   "mimetype": "text/x-python",
   "name": "python",
   "nbconvert_exporter": "python",
   "pygments_lexer": "ipython3",
   "version": "3.7.6"
  }
 },
 "nbformat": 4,
 "nbformat_minor": 2
}
