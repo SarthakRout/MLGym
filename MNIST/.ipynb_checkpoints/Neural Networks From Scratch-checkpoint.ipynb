{
 "cells": [
  {
   "cell_type": "markdown",
   "metadata": {},
   "source": [
    "# Implementing 2-Layer Neural Network From Scratch"
   ]
  },
  {
   "cell_type": "markdown",
   "metadata": {},
   "source": [
    "## Importing Packages"
   ]
  },
  {
   "cell_type": "code",
   "execution_count": 1,
   "metadata": {},
   "outputs": [],
   "source": [
    "import numpy as np\n",
    "from matplotlib import pyplot as plt"
   ]
  },
  {
   "cell_type": "markdown",
   "metadata": {},
   "source": [
    "## Loading Data"
   ]
  },
  {
   "cell_type": "code",
   "execution_count": 2,
   "metadata": {},
   "outputs": [],
   "source": [
    "def load_data(name):\n",
    "    base = \"C:\\\\GitHub\\\\MLGym\\\\MNIST\\\\\"\n",
    "    f = open(base + name, 'rb')\n",
    "    data = f.read()\n",
    "    magic_number = int((data[0:4]).hex(), 16)\n",
    "    examples = int((data[4:8]).hex(), 16)\n",
    "    mat = []\n",
    "    if magic_number == 2051:\n",
    "        # Images\n",
    "        for i in range(examples):\n",
    "            features = []\n",
    "            for j in range(28*28):\n",
    "                pixel = data[i*28*28 + j + 12]\n",
    "                # Scaling\n",
    "                features.append(pixel/255)\n",
    "            mat.append(features)\n",
    "    else:\n",
    "        # Labels\n",
    "        for i in range(examples):\n",
    "            label = data[i+8]\n",
    "            mat.append(label)\n",
    "    f.close()\n",
    "    return mat\n",
    "\n",
    "train_data_images = \"train-images.idx3-ubyte\"\n",
    "train_data_labels = \"train-labels.idx1-ubyte\"\n",
    "test_data_images = \"t10k-images.idx3-ubyte\"\n",
    "test_data_labels = \"t10k-labels.idx1-ubyte\"\n",
    "\n",
    "X_train = np.array(load_data(train_data_images))\n",
    "y_train = np.array(load_data(train_data_labels))\n",
    "X_test = np.array(load_data(test_data_images))\n",
    "y_test = np.array(load_data(test_data_labels))\n",
    "\n",
    "num_features = X_train.shape[1]\n",
    "num_hidden = 100 # Chosen arbitrarily\n",
    "num_classes = 10 #  Known beforehand\n",
    "num_train = X_train.shape[0]\n",
    "num_test = X_test.shape[0]\n",
    "\n",
    "layers = [num_features, num_hidden, num_classes]"
   ]
  },
  {
   "cell_type": "code",
   "execution_count": 3,
   "metadata": {},
   "outputs": [
    {
     "name": "stdout",
     "output_type": "stream",
     "text": [
      "784 10 60000 10000 [784, 100, 10]\n"
     ]
    }
   ],
   "source": [
    "print(num_features, num_classes, num_train, num_test, layers)"
   ]
  },
  {
   "cell_type": "markdown",
   "metadata": {},
   "source": [
    "## Visualise Digits as Images"
   ]
  },
  {
   "cell_type": "code",
   "execution_count": 4,
   "metadata": {},
   "outputs": [
    {
     "data": {
      "image/png": "[encoded data removed]",
      "text/plain": [
       "<Figure size 432x288 with 1 Axes>"
      ]
     },
     "metadata": {
      "needs_background": "light"
     },
     "output_type": "display_data"
    }
   ],
   "source": [
    "id = 0\n",
    "plt.imshow(X_train[id].reshape(28, 28), interpolation='nearest')\n",
    "plt.show()\n",
    "# print(\"Predicted: \", PredSingle(W_pred, b_pred, X_train[id]) , \" Actual: \", y_train[id])"
   ]
  },
  {
   "cell_type": "markdown",
   "metadata": {},
   "source": [
    "## Helper Functions"
   ]
  },
  {
   "cell_type": "code",
   "execution_count": 42,
   "metadata": {},
   "outputs": [],
   "source": [
    "# Implementation of the ReLU activation function\n",
    "def ReLU(values):\n",
    "    relus = values[:]\n",
    "    relus[values < 0] = 0\n",
    "    return relus\n",
    "\n",
    "# Implementation of the Softmax activation function\n",
    "def Softmax(values):\n",
    "    print(\"n\")\n",
    "    exps = np.exp(values - np.mean(values))\n",
    "    print(\"nn\")\n",
    "    return exps/np.sum(exps, axis = 0, keepdims=True) # All the features are present in a column\n",
    "\n",
    "# Implementation of a generic activation function\n",
    "def Activation(values, name):\n",
    "    if name == \"ReLU\":\n",
    "        return ReLU(values)\n",
    "    elif name == \"Softmax\":\n",
    "        return Softmax(values)\n",
    "    else:\n",
    "        print(\"Error\")\n",
    "        raise ValueError(\"Activation Function Not Found\")\n",
    "        \n",
    "def GradActivation(values, name):\n",
    "    if name == \"ReLU\":\n",
    "        return (values > 0)\n",
    "    elif name == \"Softmax\":\n",
    "        sigma = Softmax(values)\n",
    "        act = []\n",
    "        for i in range(len(sigma.shape[1])):\n",
    "            act.append(np.diag(sigma[:, i:i+1]) - np.matmul(sigma[:, i:i+1], sigma[:, i:i+1].T))\n",
    "        return act\n",
    "\n",
    "# Converts a matrix y containing test labels to a hot encoding\n",
    "def HotEncoding(y, num):\n",
    "    code = np.zeros((num, y.shape[0]))\n",
    "    for i in range(y.shape[0]):\n",
    "        code[y[i]][i] = 1\n",
    "    return code\n",
    "\n",
    "# \n",
    "def InitialiseNN(layers):\n",
    "    # Seeding the value for reproducible results\n",
    "    np.random.seed(29)\n",
    "    net = {}\n",
    "    for i in range(len(layers)-1):\n",
    "        # Contains transpose of weight vectors each row size corresponding to next layer and column size to previous layer\n",
    "        weights = np.zeros((layers[i+1], layers[i]))\n",
    "        for j in range(layers[i+1]):\n",
    "            weights[j, :] = np.random.randint(10, size=layers[i])/200\n",
    "        b = np.zeros((layers[i+1], 1))\n",
    "        net[\"W\" + str(i+1)] = weights\n",
    "        net[\"b\" + str(i+1)] = b\n",
    "    return net\n",
    "\n",
    "def Predict(preds):\n",
    "    # Returns the predicted class from the softmax probabilities\n",
    "    prediction = []\n",
    "    for i in range(preds.shape[1]):\n",
    "        prediction.append(np.argmax(preds[:, i]))\n",
    "    return prediction\n",
    "\n",
    "def CrossEntropyLoss(EncodedY, preds):\n",
    "    # Calculates the cross entropy loss by adding up negative log likelihood of softmax probabilities\n",
    "    return -np.squeeze(np.sum(EncodedY * preds))/EncodedY.shape[1]\n",
    "#     loss = 0\n",
    "#     for i in range(len(y_)):\n",
    "#         code = HotEncoding(y_[i:i+1], num_classes)\n",
    "#         loss += np.dot(code.T, np.log(preds[:, i:i+1]))\n",
    "#         loss += np.dot((1-code).T, np.log(1-preds[:, i:i+1]))\n",
    "#     return np.squeeze(-loss/len(y_))\n",
    "\n",
    "def RoundForward(W, b, X, name):\n",
    "    # Returns the activation on all samples in X given W and b and name of the activation function\n",
    "    Z = np.matmul(W, X) + b\n",
    "    print(\"X\", X, name)\n",
    "    return (Activation(Z, name)), Z\n",
    "\n",
    "def UpdateTheta(alpha, X, y, preds, num_classes):\n",
    "    # Updates theta denoted by W here by W[k] = W[k] + (alpha/m)*sum over x(i) .(1{y = k} - softmax(k)) in vectorised format\n",
    "    return alpha*(np.matmul((HotEncoding(y, num_classes) - preds), X))/X.shape[0]\n",
    "\n",
    "def Updateb(alpha, X, y, preds, num_classes):\n",
    "    # Updates b here by b = b + (alpha/m)*sum over (1 {y = k} - softmax(k))\n",
    "    return alpha*np.sum(HotEncoding(y, num_classes) - preds, axis=1, keepdims=True)/X.shape[0]\n",
    "\n",
    "def Update(W, b, alpha, X, y, preds, num_classes):\n",
    "    return W + UpdateTheta(alpha, X, y, preds, num_classes), b + Updateb(alpha, X, y, preds, num_classes)"
   ]
  },
  {
   "cell_type": "code",
   "execution_count": 44,
   "metadata": {},
   "outputs": [],
   "source": [
    "\n",
    "def LinearFeedForward(Net, X, layers):\n",
    "    cache = {}\n",
    "    l = len(layers) - 2\n",
    "    A = X.T # A is number of features x number of samples (784 , 60000) here\n",
    "    cache[\"A0\"] = X.T\n",
    "    for i in range(0, l):\n",
    "        print(\"LFF X\", X)\n",
    "        A_, Z = RoundForward(Net[\"W\" + str(i+1)], Net[\"b\" + str(i+1)] , A, 'ReLU')\n",
    "        cache[\"A\" + str(i+1)] = A_\n",
    "        cache[\"Z\" + str(i+1)] = Z\n",
    "        A = A_\n",
    "    preds, Z = RoundForward(Net[\"W\" + str(l+1)], Net[\"b\" + str(l+1)] , A, 'Softmax')\n",
    "    cache[\"A\" + str(l+1)] = preds\n",
    "    cache[\"Z\" + str(l+1)] = Z\n",
    "    return preds, cache\n",
    "        \n",
    "def BackPropagation(Net, alpha, EncodedY, cache, preds):\n",
    "    l = len(layers) - 2\n",
    "    AL = cache[\"A\" + str(l+1)]\n",
    "    ZL = cache[\"Z\" + str(l+1)]\n",
    "#     dAL = - np.divide(Y, AL)\n",
    "#     dZ = dAL*GradActivation(ZL, 'Softmax')\n",
    "    dZ = preds[:]\n",
    "    for i in range(EncodedY.shape[0]):\n",
    "        for j in range(EncodedY.shape[1]):\n",
    "            dZ[i][j] -= 1\n",
    "    # Output Layer\n",
    "    dA = np.matmul(Net[\"W\" + str(l+1)].T, dZ)\n",
    "    Net[\"W\" + str(l+1)] = Net[\"W\" + str(l+1)] + alpha * np.matmul(dZ, cache[\"A\" + str(l)].T) / dZ.shape[1]\n",
    "    Net[\"b\" + str(l+1)] = Net[\"b\" + str(l+1)] + alpha * np.squeeze(np.sum(dZ)) / dZ.shape[1]\n",
    "    dA = np.matmul(Net[\"W\" + str(l+1)].T, dZ)\n",
    "    # Hidden Layers\n",
    "    for i in range(l):\n",
    "        Zi = cache[\"Z\" + str(l - i)]\n",
    "        dZ = dA * GradActivation(Zi, 'ReLU')\n",
    "        dA = np.matmul(Net[\"W\" + str(i+1)].T, dZ)\n",
    "        Net[\"W\" + str(i+1)] = Net[\"W\" + str(i+1)] + alpha * np.matmul(dZ, cache[\"A\" + str(l-i - 1)].T) / dZ.shape[1]\n",
    "        Net[\"b\" + str(i+1)] = Net[\"b\" + str(i+1)] + alpha * np.squeeze(np.sum(dZ)) / dZ.shape[1]\n",
    "    return Net"
   ]
  },
  {
   "cell_type": "markdown",
   "metadata": {},
   "source": [
    "### Verifying the functions"
   ]
  },
  {
   "cell_type": "code",
   "execution_count": null,
   "metadata": {},
   "outputs": [],
   "source": [
    "\n"
   ]
  },
  {
   "cell_type": "markdown",
   "metadata": {},
   "source": [
    " ## 2 Layers Neural Network"
   ]
  },
  {
   "cell_type": "code",
   "execution_count": 46,
   "metadata": {},
   "outputs": [],
   "source": [
    "# alpha is the learning rate, num_iters is the maximum number of iterations, tol is the tolerance\n",
    "def NeuralNet(alpha, num_iters, tol, X, y, layers):\n",
    "    Net = InitialiseNN(layers)\n",
    "    EncodedY = HotEncoding(y, num_classes)\n",
    "    for i in range(num_iters):\n",
    "        print(\"NN X\", X)\n",
    "        preds, cache = LinearFeedForward(Net, X, layers)\n",
    "        Net = BackPropagation(Net, alpha, EncodedY, cache, preds)\n",
    "        cost = CrossEntropyLoss(preds, EncodedY)\n",
    "        if abs(cost) < tol:\n",
    "            break\n",
    "        if i % 25 == 0:\n",
    "            print(\"Cross Entropy Loss: \", i,  cost)\n",
    "    return Net"
   ]
  },
  {
   "cell_type": "markdown",
   "metadata": {},
   "source": [
    "## Top Implementation"
   ]
  },
  {
   "cell_type": "code",
   "execution_count": 45,
   "metadata": {},
   "outputs": [
    {
     "name": "stdout",
     "output_type": "stream",
     "text": [
      "A [[0. 0. 0. ... 0. 0. 0.]\n",
      " [0. 0. 0. ... 0. 0. 0.]\n",
      " [0. 0. 0. ... 0. 0. 0.]\n",
      " ...\n",
      " [0. 0. 0. ... 0. 0. 0.]\n",
      " [0. 0. 0. ... 0. 0. 0.]\n",
      " [0. 0. 0. ... 0. 0. 0.]]\n",
      "X [[0. 0. 0. ... 0. 0. 0.]\n",
      " [0. 0. 0. ... 0. 0. 0.]\n",
      " [0. 0. 0. ... 0. 0. 0.]\n",
      " ...\n",
      " [0. 0. 0. ... 0. 0. 0.]\n",
      " [0. 0. 0. ... 0. 0. 0.]\n",
      " [0. 0. 0. ... 0. 0. 0.]]\n",
      "X [[2.40903922 2.8277451  1.65570588 ... 2.02260784 1.81862745 1.897     ]\n",
      " [2.61831373 2.9667451  1.90409804 ... 2.05445098 1.98554902 2.07019608]\n",
      " [2.47513725 2.63784314 1.68980392 ... 1.69192157 1.69831373 1.74894118]\n",
      " ...\n",
      " [2.37517647 2.75690196 1.76462745 ... 1.84017647 1.83280392 1.64417647]\n",
      " [2.41831373 2.65629412 1.68339216 ... 2.03745098 1.57476471 1.85129412]\n",
      " [2.49256863 2.67776471 1.80313725 ... 1.87252941 1.70521569 1.79882353]]\n",
      "n\n",
      "nn\n",
      "Cross Entropy Loss:  0 0.9003930565462726\n",
      "A [[0. 0. 0. ... 0. 0. 0.]\n",
      " [0. 0. 0. ... 0. 0. 0.]\n",
      " [0. 0. 0. ... 0. 0. 0.]\n",
      " ...\n",
      " [0. 0. 0. ... 0. 0. 0.]\n",
      " [0. 0. 0. ... 0. 0. 0.]\n",
      " [0. 0. 0. ... 0. 0. 0.]]\n",
      "X [[0. 0. 0. ... 0. 0. 0.]\n",
      " [0. 0. 0. ... 0. 0. 0.]\n",
      " [0. 0. 0. ... 0. 0. 0.]\n",
      " ...\n",
      " [0. 0. 0. ... 0. 0. 0.]\n",
      " [0. 0. 0. ... 0. 0. 0.]\n",
      " [0. 0. 0. ... 0. 0. 0.]]\n",
      "X [[2615.33682565 2645.05445212 2223.58375217 ... 2433.05651159\n",
      "  2367.50926327 2393.53516537]\n",
      " [2652.99052677 2684.09819415 2241.74046241 ... 2461.44601561\n",
      "  2392.76687903 2420.09648815]\n",
      " [2554.54027826 2581.62279369 2194.50797903 ... 2386.6344842\n",
      "  2326.60404979 2350.49500689]\n",
      " ...\n",
      " [2575.76855528 2603.90289311 2204.78344641 ... 2402.93471213\n",
      "  2341.03055032 2365.42081927]\n",
      " [2543.8231805  2570.56446856 2189.40294421 ... 2378.90730925\n",
      "  2319.33703198 2343.08482932]\n",
      " [2575.04042302 2602.93985325 2204.41574335 ... 2402.32815128\n",
      "  2340.33461354 2364.97929263]]\n",
      "n\n"
     ]
    },
    {
     "name": "stderr",
     "output_type": "stream",
     "text": [
      "C:\\Users\\user\\AppData\\Roaming\\Python\\Python37\\site-packages\\ipykernel_launcher.py:10: RuntimeWarning: overflow encountered in exp\n",
      "  # Remove the CWD from sys.path while we load stuff.\n",
      "C:\\Users\\user\\AppData\\Roaming\\Python\\Python37\\site-packages\\ipykernel_launcher.py:12: RuntimeWarning: invalid value encountered in true_divide\n",
      "  if sys.path[0] == '':\n"
     ]
    },
    {
     "name": "stdout",
     "output_type": "stream",
     "text": [
      "nn\n",
      "A [[0. 0. 0. ... 0. 0. 0.]\n",
      " [0. 0. 0. ... 0. 0. 0.]\n",
      " [0. 0. 0. ... 0. 0. 0.]\n",
      " ...\n",
      " [0. 0. 0. ... 0. 0. 0.]\n",
      " [0. 0. 0. ... 0. 0. 0.]\n",
      " [0. 0. 0. ... 0. 0. 0.]]\n",
      "X [[0. 0. 0. ... 0. 0. 0.]\n",
      " [0. 0. 0. ... 0. 0. 0.]\n",
      " [0. 0. 0. ... 0. 0. 0.]\n",
      " ...\n",
      " [0. 0. 0. ... 0. 0. 0.]\n",
      " [0. 0. 0. ... 0. 0. 0.]\n",
      " [0. 0. 0. ... 0. 0. 0.]]\n",
      "X"
     ]
    },
    {
     "name": "stderr",
     "output_type": "stream",
     "text": [
      "C:\\Users\\user\\AppData\\Roaming\\Python\\Python37\\site-packages\\ipykernel_launcher.py:4: RuntimeWarning: invalid value encountered in less\n",
      "  after removing the cwd from sys.path.\n"
     ]
    },
    {
     "name": "stdout",
     "output_type": "stream",
     "text": [
      " [[nan nan nan ... nan nan nan]\n",
      " [nan nan nan ... nan nan nan]\n",
      " [nan nan nan ... nan nan nan]\n",
      " ...\n",
      " [nan nan nan ... nan nan nan]\n",
      " [nan nan nan ... nan nan nan]\n",
      " [nan nan nan ... nan nan nan]]\n",
      "n\n",
      "nn\n"
     ]
    },
    {
     "name": "stderr",
     "output_type": "stream",
     "text": [
      "C:\\Users\\user\\AppData\\Roaming\\Python\\Python37\\site-packages\\ipykernel_launcher.py:26: RuntimeWarning: invalid value encountered in greater\n"
     ]
    },
    {
     "name": "stdout",
     "output_type": "stream",
     "text": [
      "A [[0. 0. 0. ... 0. 0. 0.]\n",
      " [0. 0. 0. ... 0. 0. 0.]\n",
      " [0. 0. 0. ... 0. 0. 0.]\n",
      " ...\n",
      " [0. 0. 0. ... 0. 0. 0.]\n",
      " [0. 0. 0. ... 0. 0. 0.]\n",
      " [0. 0. 0. ... 0. 0. 0.]]\n",
      "X [[0. 0. 0. ... 0. 0. 0.]\n",
      " [0. 0. 0. ... 0. 0. 0.]\n",
      " [0. 0. 0. ... 0. 0. 0.]\n",
      " ...\n",
      " [0. 0. 0. ... 0. 0. 0.]\n",
      " [0. 0. 0. ... 0. 0. 0.]\n",
      " [0. 0. 0. ... 0. 0. 0.]]\n",
      "X [[nan nan nan ... nan nan nan]\n",
      " [nan nan nan ... nan nan nan]\n",
      " [nan nan nan ... nan nan nan]\n",
      " ...\n",
      " [nan nan nan ... nan nan nan]\n",
      " [nan nan nan ... nan nan nan]\n",
      " [nan nan nan ... nan nan nan]]\n",
      "n\n",
      "nn\n"
     ]
    },
    {
     "ename": "KeyboardInterrupt",
     "evalue": "",
     "output_type": "error",
     "traceback": [
      "\u001b[1;31m---------------------------------------------------------------------------\u001b[0m",
      "\u001b[1;31mKeyboardInterrupt\u001b[0m                         Traceback (most recent call last)",
      "\u001b[1;32m<ipython-input-45-366268a20424>\u001b[0m in \u001b[0;36m<module>\u001b[1;34m\u001b[0m\n\u001b[0;32m      1\u001b[0m \u001b[1;31m# Experimentally found that __ is the best learning rate before it fails to converge at alpha = __ onwards.\u001b[0m\u001b[1;33m\u001b[0m\u001b[1;33m\u001b[0m\u001b[1;33m\u001b[0m\u001b[0m\n\u001b[1;32m----> 2\u001b[1;33m \u001b[0mNet_pred\u001b[0m \u001b[1;33m=\u001b[0m \u001b[0mNeuralNet\u001b[0m\u001b[1;33m(\u001b[0m\u001b[1;36m1\u001b[0m\u001b[1;33m,\u001b[0m \u001b[1;36m500\u001b[0m\u001b[1;33m,\u001b[0m \u001b[1;36m0.1\u001b[0m\u001b[1;33m,\u001b[0m \u001b[0mX_train\u001b[0m\u001b[1;33m,\u001b[0m \u001b[0my_train\u001b[0m\u001b[1;33m,\u001b[0m \u001b[0mlayers\u001b[0m\u001b[1;33m)\u001b[0m\u001b[1;33m\u001b[0m\u001b[1;33m\u001b[0m\u001b[0m\n\u001b[0m",
      "\u001b[1;32m<ipython-input-15-55ebd26d82db>\u001b[0m in \u001b[0;36mNeuralNet\u001b[1;34m(alpha, num_iters, tol, X, y, layers)\u001b[0m\n\u001b[0;32m      5\u001b[0m     \u001b[1;32mfor\u001b[0m \u001b[0mi\u001b[0m \u001b[1;32min\u001b[0m \u001b[0mrange\u001b[0m\u001b[1;33m(\u001b[0m\u001b[0mnum_iters\u001b[0m\u001b[1;33m)\u001b[0m\u001b[1;33m:\u001b[0m\u001b[1;33m\u001b[0m\u001b[1;33m\u001b[0m\u001b[0m\n\u001b[0;32m      6\u001b[0m         \u001b[0mpreds\u001b[0m\u001b[1;33m,\u001b[0m \u001b[0mcache\u001b[0m \u001b[1;33m=\u001b[0m \u001b[0mLinearFeedForward\u001b[0m\u001b[1;33m(\u001b[0m\u001b[0mNet\u001b[0m\u001b[1;33m,\u001b[0m \u001b[0mX\u001b[0m\u001b[1;33m,\u001b[0m \u001b[0mlayers\u001b[0m\u001b[1;33m)\u001b[0m\u001b[1;33m\u001b[0m\u001b[1;33m\u001b[0m\u001b[0m\n\u001b[1;32m----> 7\u001b[1;33m         \u001b[0mNet\u001b[0m \u001b[1;33m=\u001b[0m \u001b[0mBackPropagation\u001b[0m\u001b[1;33m(\u001b[0m\u001b[0mNet\u001b[0m\u001b[1;33m,\u001b[0m \u001b[0malpha\u001b[0m\u001b[1;33m,\u001b[0m \u001b[0mEncodedY\u001b[0m\u001b[1;33m,\u001b[0m \u001b[0mcache\u001b[0m\u001b[1;33m,\u001b[0m \u001b[0mpreds\u001b[0m\u001b[1;33m)\u001b[0m\u001b[1;33m\u001b[0m\u001b[1;33m\u001b[0m\u001b[0m\n\u001b[0m\u001b[0;32m      8\u001b[0m         \u001b[0mcost\u001b[0m \u001b[1;33m=\u001b[0m \u001b[0mCrossEntropyLoss\u001b[0m\u001b[1;33m(\u001b[0m\u001b[0mpreds\u001b[0m\u001b[1;33m,\u001b[0m \u001b[0mEncodedY\u001b[0m\u001b[1;33m)\u001b[0m\u001b[1;33m\u001b[0m\u001b[1;33m\u001b[0m\u001b[0m\n\u001b[0;32m      9\u001b[0m         \u001b[1;32mif\u001b[0m \u001b[0mabs\u001b[0m\u001b[1;33m(\u001b[0m\u001b[0mcost\u001b[0m\u001b[1;33m)\u001b[0m \u001b[1;33m<\u001b[0m \u001b[0mtol\u001b[0m\u001b[1;33m:\u001b[0m\u001b[1;33m\u001b[0m\u001b[1;33m\u001b[0m\u001b[0m\n",
      "\u001b[1;32m<ipython-input-44-31dcdcc98156>\u001b[0m in \u001b[0;36mBackPropagation\u001b[1;34m(Net, alpha, EncodedY, cache, preds)\u001b[0m\n\u001b[0;32m     34\u001b[0m         \u001b[0mZi\u001b[0m \u001b[1;33m=\u001b[0m \u001b[0mcache\u001b[0m\u001b[1;33m[\u001b[0m\u001b[1;34m\"Z\"\u001b[0m \u001b[1;33m+\u001b[0m \u001b[0mstr\u001b[0m\u001b[1;33m(\u001b[0m\u001b[0ml\u001b[0m \u001b[1;33m-\u001b[0m \u001b[0mi\u001b[0m\u001b[1;33m)\u001b[0m\u001b[1;33m]\u001b[0m\u001b[1;33m\u001b[0m\u001b[1;33m\u001b[0m\u001b[0m\n\u001b[0;32m     35\u001b[0m         \u001b[0mdZ\u001b[0m \u001b[1;33m=\u001b[0m \u001b[0mdA\u001b[0m \u001b[1;33m*\u001b[0m \u001b[0mGradActivation\u001b[0m\u001b[1;33m(\u001b[0m\u001b[0mZi\u001b[0m\u001b[1;33m,\u001b[0m \u001b[1;34m'ReLU'\u001b[0m\u001b[1;33m)\u001b[0m\u001b[1;33m\u001b[0m\u001b[1;33m\u001b[0m\u001b[0m\n\u001b[1;32m---> 36\u001b[1;33m         \u001b[0mdA\u001b[0m \u001b[1;33m=\u001b[0m \u001b[0mnp\u001b[0m\u001b[1;33m.\u001b[0m\u001b[0mmatmul\u001b[0m\u001b[1;33m(\u001b[0m\u001b[0mNet\u001b[0m\u001b[1;33m[\u001b[0m\u001b[1;34m\"W\"\u001b[0m \u001b[1;33m+\u001b[0m \u001b[0mstr\u001b[0m\u001b[1;33m(\u001b[0m\u001b[0mi\u001b[0m\u001b[1;33m+\u001b[0m\u001b[1;36m1\u001b[0m\u001b[1;33m)\u001b[0m\u001b[1;33m]\u001b[0m\u001b[1;33m.\u001b[0m\u001b[0mT\u001b[0m\u001b[1;33m,\u001b[0m \u001b[0mdZ\u001b[0m\u001b[1;33m)\u001b[0m\u001b[1;33m\u001b[0m\u001b[1;33m\u001b[0m\u001b[0m\n\u001b[0m\u001b[0;32m     37\u001b[0m         \u001b[0mNet\u001b[0m\u001b[1;33m[\u001b[0m\u001b[1;34m\"W\"\u001b[0m \u001b[1;33m+\u001b[0m \u001b[0mstr\u001b[0m\u001b[1;33m(\u001b[0m\u001b[0mi\u001b[0m\u001b[1;33m+\u001b[0m\u001b[1;36m1\u001b[0m\u001b[1;33m)\u001b[0m\u001b[1;33m]\u001b[0m \u001b[1;33m=\u001b[0m \u001b[0mNet\u001b[0m\u001b[1;33m[\u001b[0m\u001b[1;34m\"W\"\u001b[0m \u001b[1;33m+\u001b[0m \u001b[0mstr\u001b[0m\u001b[1;33m(\u001b[0m\u001b[0mi\u001b[0m\u001b[1;33m+\u001b[0m\u001b[1;36m1\u001b[0m\u001b[1;33m)\u001b[0m\u001b[1;33m]\u001b[0m \u001b[1;33m+\u001b[0m \u001b[0malpha\u001b[0m \u001b[1;33m*\u001b[0m \u001b[0mnp\u001b[0m\u001b[1;33m.\u001b[0m\u001b[0mmatmul\u001b[0m\u001b[1;33m(\u001b[0m\u001b[0mdZ\u001b[0m\u001b[1;33m,\u001b[0m \u001b[0mcache\u001b[0m\u001b[1;33m[\u001b[0m\u001b[1;34m\"A\"\u001b[0m \u001b[1;33m+\u001b[0m \u001b[0mstr\u001b[0m\u001b[1;33m(\u001b[0m\u001b[0ml\u001b[0m\u001b[1;33m-\u001b[0m\u001b[0mi\u001b[0m \u001b[1;33m-\u001b[0m \u001b[1;36m1\u001b[0m\u001b[1;33m)\u001b[0m\u001b[1;33m]\u001b[0m\u001b[1;33m.\u001b[0m\u001b[0mT\u001b[0m\u001b[1;33m)\u001b[0m \u001b[1;33m/\u001b[0m \u001b[0mdZ\u001b[0m\u001b[1;33m.\u001b[0m\u001b[0mshape\u001b[0m\u001b[1;33m[\u001b[0m\u001b[1;36m1\u001b[0m\u001b[1;33m]\u001b[0m\u001b[1;33m\u001b[0m\u001b[1;33m\u001b[0m\u001b[0m\n\u001b[0;32m     38\u001b[0m         \u001b[0mNet\u001b[0m\u001b[1;33m[\u001b[0m\u001b[1;34m\"b\"\u001b[0m \u001b[1;33m+\u001b[0m \u001b[0mstr\u001b[0m\u001b[1;33m(\u001b[0m\u001b[0mi\u001b[0m\u001b[1;33m+\u001b[0m\u001b[1;36m1\u001b[0m\u001b[1;33m)\u001b[0m\u001b[1;33m]\u001b[0m \u001b[1;33m=\u001b[0m \u001b[0mNet\u001b[0m\u001b[1;33m[\u001b[0m\u001b[1;34m\"b\"\u001b[0m \u001b[1;33m+\u001b[0m \u001b[0mstr\u001b[0m\u001b[1;33m(\u001b[0m\u001b[0mi\u001b[0m\u001b[1;33m+\u001b[0m\u001b[1;36m1\u001b[0m\u001b[1;33m)\u001b[0m\u001b[1;33m]\u001b[0m \u001b[1;33m+\u001b[0m \u001b[0malpha\u001b[0m \u001b[1;33m*\u001b[0m \u001b[0mnp\u001b[0m\u001b[1;33m.\u001b[0m\u001b[0msqueeze\u001b[0m\u001b[1;33m(\u001b[0m\u001b[0mnp\u001b[0m\u001b[1;33m.\u001b[0m\u001b[0msum\u001b[0m\u001b[1;33m(\u001b[0m\u001b[0mdZ\u001b[0m\u001b[1;33m)\u001b[0m\u001b[1;33m)\u001b[0m \u001b[1;33m/\u001b[0m \u001b[0mdZ\u001b[0m\u001b[1;33m.\u001b[0m\u001b[0mshape\u001b[0m\u001b[1;33m[\u001b[0m\u001b[1;36m1\u001b[0m\u001b[1;33m]\u001b[0m\u001b[1;33m\u001b[0m\u001b[1;33m\u001b[0m\u001b[0m\n",
      "\u001b[1;31mKeyboardInterrupt\u001b[0m: "
     ]
    }
   ],
   "source": [
    "# Experimentally found that __ is the best learning rate before it fails to converge at alpha = __ onwards. \n",
    "Net_pred = NeuralNet(1, 500, 0.1, X_train, y_train, layers)"
   ]
  },
  {
   "cell_type": "code",
   "execution_count": 364,
   "metadata": {},
   "outputs": [
    {
     "name": "stdout",
     "output_type": "stream",
     "text": [
      "Training Accuracy:  0.924\n"
     ]
    }
   ],
   "source": [
    "print(\"Training Accuracy: \" ,  np.mean(y_train == Predict(LinearFeedForward(Net_pred, X_train)) ))"
   ]
  },
  {
   "cell_type": "code",
   "execution_count": 365,
   "metadata": {},
   "outputs": [
    {
     "name": "stdout",
     "output_type": "stream",
     "text": [
      "Test Accuracy:  0.9221\n"
     ]
    }
   ],
   "source": [
    "# print(W_pred.shape, b_pred.shape)\n",
    "print(\"Test Accuracy: \" , np.mean(y_test == Predict(LinearFeedForward(Net_pred, X_test)) ))"
   ]
  },
  {
   "cell_type": "code",
   "execution_count": 366,
   "metadata": {},
   "outputs": [
    {
     "data": {
      "image/png": "[encoded data removed]",
      "text/plain": [
       "<Figure size 432x288 with 1 Axes>"
      ]
     },
     "metadata": {
      "needs_background": "light"
     },
     "output_type": "display_data"
    },
    {
     "name": "stdout",
     "output_type": "stream",
     "text": [
      "Predicted:  1  Actual:  1\n"
     ]
    }
   ],
   "source": [
    "# def PredSingle(W_pred, b_pred, sample):\n",
    "#     return np.argmax(softmax(np.matmul(W_pred, sample.reshape(sample.shape[0], 1)) + b_pred))\n",
    "wrong_indices = [i for i, x in enumerate(y_test != Predict(PredictProbs(W_pred, b_pred, X_test)) ) if x == 1]\n",
    "id = 39\n",
    "plt.imshow(X_test[id].reshape(28, 28), interpolation='nearest')\n",
    "plt.show()\n",
    "print(\"Predicted: \", Predict(PredictProbs(W_pred, b_pred, X_test[id:id+1]))[0] , \" Actual: \", y_test[id])\n"
   ]
  },
  {
   "cell_type": "markdown",
   "metadata": {},
   "source": [
    "## Trying out a resized image from a handwritten digit"
   ]
  },
  {
   "cell_type": "code",
   "execution_count": 341,
   "metadata": {},
   "outputs": [],
   "source": [
    "img = [0, 0, 0, 0, 0, 0, 0, 0, 0, 0, 0, 0, 0, 0, 0, 0, 0, 0, 0, 0, 0, 0, 0, 0, 0, 0, 0, 0,\n",
    "0, 0, 0, 0, 0, 0, 0, 0, 0, 0, 0, 0, 0, 0, 0, 0, 0, 0, 0, 0, 0, 0, 0, 0, 0, 0, 0, 0,\n",
    "0, 0, 0, 0, 0, 0, 0, 0, 0, 0, 0, 0, 0, 0, 0, 0, 0, 0, 0, 0, 0, 0, 0, 0, 0, 0, 0, 0,\n",
    "0, 0, 0, 0, 0, 0, 0, 0, 0, 0, 0, 0, 0, 0, 0, 0, 0, 0, 0, 0, 0, 0, 0, 0, 0, 0, 0, 0,\n",
    "0, 0, 0, 0, 0, 0, 0, 0, 0, 0, 0, 0, 0, 0, 0, 0, 0, 0, 0, 0, 0, 0, 0, 0, 0, 0, 0, 0,\n",
    "0, 0, 0, 0, 0, 0, 0, 0, 0, 0, 0, 0, 0, 0, 0, 0, 0, 0, 0, 0, 0, 0, 0, 0, 0, 0, 0, 0,\n",
    "0, 0, 0, 0, 0, 0, 0, 0, 0, 0, 0, 0, 0, 0, 0, 0, 0, 0, 0, 0, 0, 0, 0, 0, 0, 0, 0, 0,\n",
    "0, 0, 0, 0, 0, 0, 0, 0, 0, 0, 1, 1, 1, 1, 1, 1, 1, 1, 0, 0, 0, 0, 0, 0, 0, 0, 0, 0,\n",
    "0, 0, 0, 0, 0, 0, 0, 0, 1, 1, 1, 1, 0, 0, 0, 0, 0, 1, 1, 1, 0, 0, 0, 0, 0, 0, 0, 0,\n",
    "0, 0, 0, 0, 0, 0, 0, 0, 1, 1, 0, 0, 0, 0, 0, 0, 0, 0, 1, 1, 1, 0, 0, 0, 0, 0, 0, 0,\n",
    "0, 0, 0, 0, 0, 0, 0, 0, 1, 1, 0, 0, 0, 0, 0, 0, 0, 0, 0, 1, 1, 0, 0, 0, 0, 0, 0, 0,\n",
    "0, 0, 0, 0, 0, 0, 0, 0, 1, 1, 0, 0, 0, 0, 0, 0, 0, 0, 0, 1, 1, 0, 0, 0, 0, 0, 0, 0,\n",
    "0, 0, 0, 0, 0, 0, 0, 0, 0, 1, 0, 0, 0, 0, 1, 0, 0, 0, 0, 1, 1, 0, 0, 0, 0, 0, 0, 0,\n",
    "0, 0, 0, 0, 0, 0, 0, 0, 0, 0, 0, 1, 1, 1, 1, 0, 0, 0, 1, 1, 0, 0, 0, 0, 0, 0, 0, 0,\n",
    "0, 0, 0, 0, 0, 0, 0, 0, 0, 0, 0, 0, 0, 0, 0, 0, 0, 1, 1, 0, 0, 0, 0, 0, 0, 0, 0, 0,\n",
    "0, 0, 0, 0, 0, 0, 0, 0, 0, 0, 0, 0, 0, 0, 1, 1, 1, 1, 1, 0, 0, 0, 0, 0, 0, 0, 0, 0,\n",
    "0, 0, 0, 0, 0, 0, 0, 0, 0, 0, 0, 0, 0, 0, 1, 1, 1, 1, 1, 1, 0, 0, 0, 0, 0, 0, 0, 0,\n",
    "0, 0, 0, 0, 0, 0, 0, 0, 0, 0, 0, 0, 0, 0, 0, 0, 0, 0, 1, 1, 0, 0, 0, 0, 0, 0, 0, 0,\n",
    "0, 0, 1, 1, 0, 0, 0, 0, 0, 0, 0, 0, 0, 0, 0, 0, 0, 0, 0, 1, 1, 0, 0, 0, 0, 0, 0, 0,\n",
    "0, 0, 0, 1, 0, 0, 0, 0, 0, 0, 0, 0, 0, 0, 0, 0, 0, 0, 1, 1, 1, 0, 0, 0, 0, 0, 0, 0,\n",
    "0, 0, 0, 0, 1, 1, 1, 0, 0, 0, 0, 0, 0, 0, 0, 0, 0, 1, 1, 1, 1, 0, 0, 0, 0, 0, 0, 0,\n",
    "0, 0, 0, 0, 0, 0, 1, 1, 1, 1, 1, 1, 0, 0, 0, 1, 1, 1, 1, 1, 0, 0, 0, 0, 0, 0, 0, 0,\n",
    "0, 0, 0, 0, 0, 0, 0, 0, 0, 0, 1, 1, 1, 1, 1, 1, 0, 0, 0, 0, 0, 0, 0, 0, 0, 0, 0, 0,\n",
    "0, 0, 0, 0, 0, 0, 0, 0, 0, 0, 0, 0, 0, 0, 0, 0, 0, 0, 0, 0, 0, 0, 0, 0, 0, 0, 0, 0,\n",
    "0, 0, 0, 0, 0, 0, 0, 0, 0, 0, 0, 0, 0, 0, 0, 0, 0, 0, 0, 0, 0, 0, 0, 0, 0, 0, 0, 0,\n",
    "0, 0, 0, 0, 0, 0, 0, 0, 0, 0, 0, 0, 0, 0, 0, 0, 0, 0, 0, 0, 0, 0, 0, 0, 0, 0, 0, 0,\n",
    "0, 0, 0, 0, 0, 0, 0, 0, 0, 0, 0, 0, 0, 0, 0, 0, 0, 0, 0, 0, 0, 0, 0, 0, 0, 0, 0, 0,\n",
    "0, 0, 0, 0, 0, 0, 0, 0, 0, 0, 0, 0, 0, 0, 0, 0, 0, 0, 0, 0, 0, 0, 0, 0, 0, 0, 0, 0]\n"
   ]
  },
  {
   "cell_type": "code",
   "execution_count": 367,
   "metadata": {},
   "outputs": [
    {
     "data": {
      "image/png": "[encoded data removed]",
      "text/plain": [
       "<Figure size 432x288 with 1 Axes>"
      ]
     },
     "metadata": {
      "needs_background": "light"
     },
     "output_type": "display_data"
    },
    {
     "name": "stdout",
     "output_type": "stream",
     "text": [
      "Predicted:  1  Actual:  3\n"
     ]
    }
   ],
   "source": [
    "img = np.array(img).reshape(784, 1)\n",
    "plt.imshow(img.reshape(28, 28), interpolation='nearest')\n",
    "plt.show()\n",
    "print(\"Predicted: \", PredSingle(W_pred, b_pred, img) , \" Actual: \", \"3\")\n"
   ]
  },
  {
   "cell_type": "markdown",
   "metadata": {},
   "source": [
    "## Confusion Matrix"
   ]
  },
  {
   "cell_type": "code",
   "execution_count": 368,
   "metadata": {},
   "outputs": [
    {
     "name": "stdout",
     "output_type": "stream",
     "text": [
      "Row index denotes the actual class and Column index denotes predicted class\n",
      "\n",
      "[[ 959    0    3    2    0    4    9    1    2    0]\n",
      " [   0 1109    2    2    0    2    4    2   14    0]\n",
      " [   7    7  920   15   10    3   14   11   38    7]\n",
      " [   3    1   21  918    0   27    2    9   19   10]\n",
      " [   1    2    4    1  917    0   11    2    8   36]\n",
      " [   9    3    3   33    9  772   18    7   31    7]\n",
      " [  11    3    5    1    9   13  911    3    2    0]\n",
      " [   2    9   21    9    6    1    0  944    2   34]\n",
      " [   7    6    7   23    9   24   11   12  869    6]\n",
      " [  10    7    2   11   35    7    0   27    8  902]]\n"
     ]
    }
   ],
   "source": [
    "def ConfusionMatrix(y_test, y_pred):\n",
    "    mat = np.zeros((num_classes, num_classes)).astype(int) # Is a square matrix\n",
    "    for i in range(len(y_test)):\n",
    "        mat[y_test[i]][y_pred[i]] += 1\n",
    "    return mat\n",
    "print(\"Row index denotes the actual class and Column index denotes predicted class\\n\")\n",
    "print(ConfusionMatrix(y_test, Predict(PredictProbs(W_pred, b_pred, X_test))))"
   ]
  },
  {
   "cell_type": "code",
   "execution_count": null,
   "metadata": {},
   "outputs": [],
   "source": []
  }
 ],
 "metadata": {
  "kernelspec": {
   "display_name": "Python 3",
   "language": "python",
   "name": "python3"
  },
  "language_info": {
   "codemirror_mode": {
    "name": "ipython",
    "version": 3
   },
   "file_extension": ".py",
   "mimetype": "text/x-python",
   "name": "python",
   "nbconvert_exporter": "python",
   "pygments_lexer": "ipython3",
   "version": "3.7.6"
  }
 },
 "nbformat": 4,
 "nbformat_minor": 2
}
