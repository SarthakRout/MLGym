{
 "cells": [
  {
   "cell_type": "markdown",
   "metadata": {},
   "source": [
    "# Implementing a GAN"
   ]
  },
  {
   "cell_type": "markdown",
   "metadata": {},
   "source": [
    "## Importing Packages"
   ]
  },
  {
   "cell_type": "code",
   "execution_count": null,
   "metadata": {},
   "outputs": [],
   "source": [
    "import "
   ]
  },
  {
   "cell_type": "markdown",
   "metadata": {},
   "source": [
    "## Loading Data"
   ]
  },
  {
   "cell_type": "code",
   "execution_count": null,
   "metadata": {},
   "outputs": [],
   "source": [
    "def load_data(name):\n",
    "    base = \"C:\\\\GitHub\\\\Misc\\\\\"\n",
    "    f = open(base + name, 'rb')\n",
    "    data = f.read()\n",
    "    magic_number = int((data[0:4]).hex(), 16)\n",
    "    examples = int((data[4:8]).hex(), 16)\n",
    "    mat = []\n",
    "    if magic_number == 2051:\n",
    "        # Images\n",
    "        for i in range(examples):\n",
    "            features = []\n",
    "            for j in range(28*28):\n",
    "                pixel = data[i*28*28 + j + 12]\n",
    "                # Scaling\n",
    "                features.append(pixel/255)\n",
    "            mat.append(features)\n",
    "    else:\n",
    "        # Labels\n",
    "        for i in range(examples):\n",
    "            label = data[i+8]\n",
    "            mat.append(label)\n",
    "    f.close()\n",
    "    return mat\n",
    "\n",
    "train_data_images = \"train-images.idx3-ubyte\"\n",
    "train_data_labels = \"train-labels.idx1-ubyte\"\n",
    "test_data_images = \"t10k-images.idx3-ubyte\"\n",
    "test_data_labels = \"t10k-labels.idx1-ubyte\"\n",
    "\n",
    "X_train = np.array(load_data(train_data_images))\n",
    "y_train = np.array(load_data(train_data_labels))\n",
    "X_test = np.array(load_data(test_data_images))\n",
    "y_test = np.array(load_data(test_data_labels))"
   ]
  }
 ],
 "metadata": {
  "kernelspec": {
   "display_name": "Python 3",
   "language": "python",
   "name": "python3"
  },
  "language_info": {
   "codemirror_mode": {
    "name": "ipython",
    "version": 3
   },
   "file_extension": ".py",
   "mimetype": "text/x-python",
   "name": "python",
   "nbconvert_exporter": "python",
   "pygments_lexer": "ipython3",
   "version": "3.7.6"
  }
 },
 "nbformat": 4,
 "nbformat_minor": 2
}
